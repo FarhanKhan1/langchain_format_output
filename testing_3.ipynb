{
 "cells": [
  {
   "cell_type": "code",
   "execution_count": 1,
   "metadata": {},
   "outputs": [],
   "source": [
    "import os\n",
    "import openai\n",
    "from PyPDF2 import PdfReader\n",
    "import glob, os\n",
    "import JD\n",
    "API_KEY = \"Your_API_KEY\"\n",
    "openai.api_key=API_KEY"
   ]
  },
  {
   "cell_type": "code",
   "execution_count": 2,
   "metadata": {},
   "outputs": [],
   "source": [
    "llm_model = \"gpt-4\""
   ]
  },
  {
   "cell_type": "code",
   "execution_count": 3,
   "metadata": {},
   "outputs": [],
   "source": [
    "from langchain.chat_models import ChatOpenAI\n",
    "chat = ChatOpenAI(temperature=0.0, model=llm_model)"
   ]
  },
  {
   "cell_type": "code",
   "execution_count": 4,
   "metadata": {},
   "outputs": [],
   "source": [
    "template_string = \"\"\"You are a helpful assistant.\\\n",
    "You will be provided with text of a resume, and job description delimited by triple backticks.\n",
    "Assign a score from 0 to 10 based on the alignment between the core technology in the resume and the job title in the job description.\\\n",
    "Score 0 if there is no correspondence between the core technology in the resume and the job title specified in the job description.\\\n",
    "Scores 1 to 3 indicate a mismatch between the content of the resume and the requirements outlined in the job description.\\\n",
    "For partial alignment between the resume and job description, give a score within the range of 4 to 7.\\\n",
    "A strong match between the resume and job description warrants a score between 8 and 10.  \n",
    "**Resume** : {raw_data}```\\n\n",
    "**Job description** : {job_description}```\\n\n",
    "{format_instructions}\n",
    "You must follow the guidelines below enclosed in three hashes to answer the query \\n\n",
    "###\n",
    "Do not return any additional information in the score key of the response other than what is mentioned in the score range.\n",
    "Please do consider the skills in the resume in order to ensure they are related to the job description.\n",
    "\n",
    "###\n",
    "\"\"\""
   ]
  },
  {
   "cell_type": "code",
   "execution_count": 5,
   "metadata": {},
   "outputs": [],
   "source": [
    "def getresumes():\n",
    "   os.chdir(os.getcwd()+\"\\\\dataset\\\\java_resumes\")\n",
    "   pdfs = []\n",
    "   for file in glob.glob(\"*.pdf\"):\n",
    "       print(file)\n",
    "       pdfs.append(file)\n",
    "    \n",
    "   return pdfs"
   ]
  },
  {
   "cell_type": "code",
   "execution_count": 6,
   "metadata": {},
   "outputs": [
    {
     "name": "stdout",
     "output_type": "stream",
     "text": [
      "Abdullah_-_1121841946 (1).pdf\n",
      "Haider_Pasha_1121841946.pdf\n",
      "Haseeb_Abdul_1121841946.pdf\n",
      "Hasnain_Haider_1121841946.pdf\n",
      "Muhammad_AbdurRahim_1121841946.pdf\n",
      "Sikander_Mehmood_1121841946.pdf\n"
     ]
    }
   ],
   "source": [
    "pdfs = getresumes()"
   ]
  },
  {
   "cell_type": "code",
   "execution_count": 7,
   "metadata": {},
   "outputs": [
    {
     "data": {
      "text/plain": [
       "[<PyPDF2._reader.PdfReader at 0x1e04b5fd3a0>,\n",
       " <PyPDF2._reader.PdfReader at 0x1e04b5f3eb0>,\n",
       " <PyPDF2._reader.PdfReader at 0x1e05c3b6ca0>,\n",
       " <PyPDF2._reader.PdfReader at 0x1e04b547fd0>,\n",
       " <PyPDF2._reader.PdfReader at 0x1e05c3b6c70>,\n",
       " <PyPDF2._reader.PdfReader at 0x1e05c3c7fd0>]"
      ]
     },
     "execution_count": 7,
     "metadata": {},
     "output_type": "execute_result"
    }
   ],
   "source": [
    "all_docs = list()\n",
    "for each_file in pdfs:\n",
    "    file_directory = os.getcwd()+f\"\\\\{each_file}\"\n",
    "    all_docs.append(PdfReader(file_directory))\n",
    "all_docs "
   ]
  },
  {
   "cell_type": "code",
   "execution_count": 8,
   "metadata": {},
   "outputs": [],
   "source": [
    "from langchain.prompts import ChatPromptTemplate\n",
    "prompt = ChatPromptTemplate.from_template(template=template_string)"
   ]
  },
  {
   "cell_type": "code",
   "execution_count": 9,
   "metadata": {},
   "outputs": [],
   "source": [
    "from langchain.output_parsers import ResponseSchema\n",
    "from langchain.output_parsers import StructuredOutputParser"
   ]
  },
  {
   "cell_type": "code",
   "execution_count": 25,
   "metadata": {},
   "outputs": [],
   "source": [
    "name_schema = ResponseSchema(name=\"Name\",\n",
    "                             description=\"Name of the person from the given Resume text\")\n",
    "score_schema = ResponseSchema(name=\"Score\",\n",
    "                                      description=\"\"\"Assign a score from 0 to 10 based on the alignment between the core technology in the resume and the job title in the job description.\\\n",
    "Score 0 if there is no correspondence between the core technology in the resume and the job title specified in the job description and there is no match of the main programming language.\\\n",
    "Scores 1 to 3 indicate a mismatch between the content of the resume and the requirements outlined in the job description.\\\n",
    "For partial alignment between the resume and job description, give a score within the range of 4 to 7.\\\n",
    "A strong match between the resume and job description warrants a score between 8 and 10.\\\n",
    "                                               \"\"\")\n",
    "description_schema = ResponseSchema(name=\"Description\",\n",
    "                                    description=\"Please justify your scoring in detail. Give details of what part has the positive impact and what part has the negative impact on scoring the candidat\")\n",
    "\n",
    "hire_schema = ResponseSchema(name=\"Why should we hire him\",\n",
    "                                    description=\"why should we hire the candidate from the given resume, shortly give the reason.\")\n",
    "\n",
    "no_hire_schema = ResponseSchema(name=\"Why should we not hire him\",\n",
    "                                    description=\"why should we not hire the candidate from the given resume, shortly give the reason.\")\n",
    "\n",
    "response_schemas = [name_schema, \n",
    "                    score_schema,\n",
    "                    description_schema,\n",
    "                    hire_schema,\n",
    "                    no_hire_schema]\n",
    "\n",
    "output_parser = StructuredOutputParser.from_response_schemas(response_schemas)\n",
    "format_instructions = output_parser.get_format_instructions()"
   ]
  },
  {
   "cell_type": "code",
   "execution_count": 26,
   "metadata": {},
   "outputs": [],
   "source": [
    "all_resumes = []\n",
    "for each_resume in all_docs:\n",
    "    raw_data = str()\n",
    "    for i, page in enumerate(each_resume.pages):\n",
    "        content = page.extract_text()\n",
    "        raw_data+=content\n",
    "    to_be_sent_messages = prompt.format_messages(\n",
    "                raw_data=raw_data,\n",
    "                job_description=JD.jd,\n",
    "                format_instructions=format_instructions\n",
    "                )\n",
    "    response = chat(to_be_sent_messages)\n",
    "    all_resumes.append(output_parser.parse(response.content))\n",
    "    # print(to_be_sent_messages[0].content)\n",
    "     "
   ]
  },
  {
   "cell_type": "code",
   "execution_count": 27,
   "metadata": {},
   "outputs": [
    {
     "name": "stdout",
     "output_type": "stream",
     "text": [
      "0\n",
      "The resume provided does not contain any information about the candidate's skills, work experience, or education. Therefore, it is impossible to determine if the candidate's skills align with the job description for a Java/Java EE/SpringBoot application developer. The job description requires a candidate with experience in Java/J2EE, Spring, Struts, Apache Velocity templates, Hibernate, SQL, PostgreSQL, client-side scripting including JavaScript, JQuery, HTML5, and knowledge of UML and Design Patterns. Without any information on the candidate's skills or experience, a score of 0 is assigned.\n",
      "8\n",
      "Haider Pasha has a strong background in Java, Spring Boot, and RESTful services, which are key requirements for the job description provided. He has experience in Agile methodology, which is also a requirement for the job. He has worked with SQL databases and has a good understanding of microservices architecture, both of which are mentioned in the job description. However, he does not have experience with Struts, Apache Velocity templates, and Azur TFS, which are mentioned in the job description. He also does not have specific experience with PostgreSQL, which is a requirement for the job. His experience with ERP systems is not explicitly mentioned in his resume.\n",
      "7\n",
      "Abdul Haseeb's resume shows a strong background in Java and SpringBoot, which are key requirements for the job description provided. He also has experience with SQL, which is another requirement for the job. However, the job description also requires experience with Struts, Apache Velocity templates, Hibernate, and client-side scripting including JavaScript, JQuery, HTML5, which are not mentioned in Abdul's resume. Additionally, the job requires knowledge of UML and Design Patterns, and proficiency with Azur TFS, which are also not mentioned in Abdul's resume. Therefore, while Abdul's resume shows a strong alignment with some of the core technologies required for the job, there are also several key requirements that are not addressed in his resume.\n",
      "8\n",
      "Hasnain Haider's resume shows a strong alignment with the job description. He has extensive experience in Java, Spring Boot, and Rest APIs, which are key requirements for the job. He also has experience with SQL and PostgreSQL, which are mentioned in the job description. His experience with server-side development and working in cross-functional teams aligns well with the job's requirements. However, he does not have experience with Struts, Apache Velocity templates, and Azur TFS, which are mentioned in the job description. This is why the score is not a perfect 10.\n",
      "7\n",
      "Muhammad Abdur Rahim has a strong background in Java/JavaEE, Spring Boot, Spring MVC, and Restful APIs, which aligns well with the job description that requires expertise in Java/Java EE/SpringBoot application development and REST services. He also has experience in working with a team and implementing security features, which are also mentioned in the job description. However, he lacks experience in Elasticsearch, SQL, PostgreSQL, and client-side scripting like JavaScript, JQuery, HTML5 which are required for the job. Also, there is no mention of his experience with agile software development methodologies, SOA design, and web service development including SOAP, JSON.\n",
      "8\n",
      "Sikander Mehmood has a strong background in Java, Spring MVC, Spring Boot, and other related technologies, which are required for the job role. He also has experience in Agile methodologies, which is a requirement in the job description. His experience with AWS could be beneficial for the role, even though it's not explicitly mentioned in the job description. However, he lacks experience in Struts, Apache Velocity templates, Hibernate, and Azur TFS, which are mentioned in the job description. His experience with databases is not specified, and the job requires knowledge of SQL and PostgreSQL.\n"
     ]
    }
   ],
   "source": [
    "for _ in all_resumes:\n",
    "    print(_[\"Score\"])\n",
    "    print(_[\"Description\"])"
   ]
  },
  {
   "cell_type": "code",
   "execution_count": 13,
   "metadata": {},
   "outputs": [],
   "source": [
    "import json \n",
    "with open(os.getcwd().split(\"\\\\\")[-1]+'with_Java_jd.json', \"w\") as file:\n",
    "    json.dump(all_resumes, file)"
   ]
  },
  {
   "cell_type": "code",
   "execution_count": null,
   "metadata": {},
   "outputs": [],
   "source": []
  },
  {
   "cell_type": "code",
   "execution_count": null,
   "metadata": {},
   "outputs": [],
   "source": []
  }
 ],
 "metadata": {
  "kernelspec": {
   "display_name": "test_2_env",
   "language": "python",
   "name": "python3"
  },
  "language_info": {
   "codemirror_mode": {
    "name": "ipython",
    "version": 3
   },
   "file_extension": ".py",
   "mimetype": "text/x-python",
   "name": "python",
   "nbconvert_exporter": "python",
   "pygments_lexer": "ipython3",
   "version": "3.9.0"
  }
 },
 "nbformat": 4,
 "nbformat_minor": 2
}
